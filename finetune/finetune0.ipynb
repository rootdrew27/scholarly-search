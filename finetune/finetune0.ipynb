{
 "cells": [
  {
   "cell_type": "code",
   "execution_count": 1,
   "metadata": {},
   "outputs": [
    {
     "name": "stderr",
     "output_type": "stream",
     "text": [
      "c:\\Users\\rooty\\UWEC\\Fall 24\\CS 426\\GroupProject\\GroupProject\\lib\\site-packages\\tqdm\\auto.py:21: TqdmWarning: IProgress not found. Please update jupyter and ipywidgets. See https://ipywidgets.readthedocs.io/en/stable/user_install.html\n",
      "  from .autonotebook import tqdm as notebook_tqdm\n",
      "c:\\Users\\rooty\\UWEC\\Fall 24\\CS 426\\GroupProject\\GroupProject\\lib\\site-packages\\dask\\dataframe\\__init__.py:49: FutureWarning: \n",
      "Dask dataframe query planning is disabled because dask-expr is not installed.\n",
      "\n",
      "You can install it with `pip install dask[dataframe]` or `conda install dask`.\n",
      "This will raise in a future version.\n",
      "\n",
      "  warnings.warn(msg, FutureWarning)\n",
      "c:\\Users\\rooty\\UWEC\\Fall 24\\CS 426\\GroupProject\\GroupProject\\lib\\site-packages\\numba\\np\\ufunc\\dufunc.py:343: NumbaWarning: \u001b[1mCompilation requested for previously compiled argument types ((uint32,)). This has no effect and perhaps indicates a bug in the calling code (compiling a ufunc more than once for the same signature\u001b[0m\n",
      "  warnings.warn(msg, errors.NumbaWarning)\n",
      "c:\\Users\\rooty\\UWEC\\Fall 24\\CS 426\\GroupProject\\GroupProject\\lib\\site-packages\\numba\\np\\ufunc\\dufunc.py:343: NumbaWarning: \u001b[1mCompilation requested for previously compiled argument types ((uint32,)). This has no effect and perhaps indicates a bug in the calling code (compiling a ufunc more than once for the same signature\u001b[0m\n",
      "  warnings.warn(msg, errors.NumbaWarning)\n",
      "c:\\Users\\rooty\\UWEC\\Fall 24\\CS 426\\GroupProject\\GroupProject\\lib\\site-packages\\numba\\np\\ufunc\\dufunc.py:343: NumbaWarning: \u001b[1mCompilation requested for previously compiled argument types ((uint32,)). This has no effect and perhaps indicates a bug in the calling code (compiling a ufunc more than once for the same signature\u001b[0m\n",
      "  warnings.warn(msg, errors.NumbaWarning)\n"
     ]
    }
   ],
   "source": [
    "import hdbscan\n",
    "import numpy as np\n",
    "from sklearn.metrics import v_measure_score\n",
    "from sklearn.cluster import KMeans\n",
    "import umap    \n",
    "import umap.plot\n",
    "from torch.utils.data import DataLoader\n",
    "\n",
    "from pathlib import Path\n",
    "import numpy as np\n",
    "import pandas as pd\n",
    "from sentence_transformers import SentenceTransformer, SimilarityFunction, losses\n",
    "import sys\n",
    "import os\n",
    "import logging\n",
    "\n",
    "SCRIPT_DIR = Path.cwd().parent\n",
    "sys.path.insert(0, str(SCRIPT_DIR))\n",
    "\n",
    "from embeddings.embedding_library import EmbeddingLibrary"
   ]
  },
  {
   "cell_type": "code",
   "execution_count": 2,
   "metadata": {},
   "outputs": [],
   "source": [
    "path_to_papers = Path(r'../papers')\n",
    "path_to_embs = Path(r'../data/embeddings')\n",
    "\n",
    "# should all be lower case\n",
    "end_of_paper_words = [\n",
    "    'references',\n",
    "    'acknowledgement', \n",
    "    'appendix',\n",
    "]\n",
    "\n",
    "papers_to_skip = [\n",
    "    '2311.11329v2_content.txt',\n",
    "    '2411.09324v2_content.txt',\n",
    "    '2411.14259v1_content.txt',\n",
    "    #'2403.12778v2_content.txt' \n",
    "]"
   ]
  },
  {
   "cell_type": "code",
   "execution_count": 3,
   "metadata": {},
   "outputs": [],
   "source": [
    "model = SentenceTransformer('sentence-transformers/all-distilroberta-v1', device='cuda')"
   ]
  },
  {
   "cell_type": "code",
   "execution_count": 4,
   "metadata": {},
   "outputs": [],
   "source": [
    "emb_lib = EmbeddingLibrary(\n",
    "    path_to_papers=path_to_papers,\n",
    "    path_to_embs=path_to_embs,\n",
    "    model=model,\n",
    "    end_of_paper_words=end_of_paper_words,\n",
    "    papers_to_skip=papers_to_skip,\n",
    "    norm_embs=True,\n",
    "    name=\"distilroberta-v1\",\n",
    "    log_lvl=logging.DEBUG,\n",
    "    path_to_log=Path(\"../log\")\n",
    ")"
   ]
  },
  {
   "cell_type": "code",
   "execution_count": 5,
   "metadata": {},
   "outputs": [
    {
     "name": "stderr",
     "output_type": "stream",
     "text": [
      "Batches: 100%|██████████| 1/1 [00:00<00:00, 153.60it/s]\n",
      "Batches: 100%|██████████| 2/2 [00:00<00:00,  6.63it/s]\n",
      "Batches: 100%|██████████| 1/1 [00:00<00:00, 200.12it/s]\n",
      "Batches: 100%|██████████| 5/5 [00:00<00:00, 20.40it/s]\n",
      "Batches: 100%|██████████| 1/1 [00:00<00:00, 162.09it/s]\n",
      "Batches: 100%|██████████| 6/6 [00:00<00:00, 17.25it/s]\n",
      "Batches: 100%|██████████| 1/1 [00:00<00:00, 196.07it/s]\n",
      "Batches: 100%|██████████| 4/4 [00:00<00:00, 22.08it/s]\n",
      "Batches: 100%|██████████| 1/1 [00:00<00:00, 87.89it/s]\n",
      "Batches: 100%|██████████| 7/7 [00:00<00:00, 30.97it/s]\n",
      "Batches: 100%|██████████| 1/1 [00:00<00:00, 139.23it/s]\n",
      "Batches: 100%|██████████| 3/3 [00:00<00:00, 15.17it/s]\n",
      "Batches: 100%|██████████| 1/1 [00:00<00:00, 200.44it/s]\n",
      "Batches: 100%|██████████| 8/8 [00:00<00:00, 37.29it/s]\n",
      "Batches: 100%|██████████| 1/1 [00:00<00:00, 168.42it/s]\n",
      "Batches: 100%|██████████| 6/6 [00:00<00:00, 29.96it/s]\n",
      "Batches: 100%|██████████| 1/1 [00:00<00:00, 117.75it/s]\n",
      "Batches: 100%|██████████| 8/8 [00:00<00:00, 14.43it/s]\n",
      "Batches: 100%|██████████| 1/1 [00:00<00:00, 138.20it/s]\n",
      "Batches: 100%|██████████| 2/2 [00:00<00:00,  6.05it/s]\n",
      "Batches: 100%|██████████| 1/1 [00:00<00:00, 144.12it/s]\n",
      "Batches: 100%|██████████| 2/2 [00:00<00:00, 10.19it/s]\n",
      "Batches: 100%|██████████| 1/1 [00:00<00:00, 161.11it/s]\n",
      "Batches: 100%|██████████| 9/9 [00:00<00:00, 47.45it/s]\n",
      "Batches: 100%|██████████| 1/1 [00:00<00:00, 130.61it/s]\n",
      "Batches: 100%|██████████| 4/4 [00:00<00:00,  9.63it/s]\n",
      "Batches: 100%|██████████| 1/1 [00:00<00:00, 201.07it/s]\n",
      "Batches: 100%|██████████| 2/2 [00:00<00:00,  6.27it/s]\n",
      "Batches: 100%|██████████| 1/1 [00:00<00:00, 115.41it/s]\n",
      "Batches: 100%|██████████| 2/2 [00:00<00:00, 17.91it/s]\n",
      "Batches: 100%|██████████| 1/1 [00:00<00:00, 145.41it/s]\n",
      "Batches: 100%|██████████| 2/2 [00:00<00:00,  7.34it/s]\n",
      "Batches: 100%|██████████| 1/1 [00:00<00:00, 198.52it/s]\n",
      "Batches: 100%|██████████| 3/3 [00:00<00:00,  5.18it/s]\n",
      "Batches: 100%|██████████| 1/1 [00:00<00:00, 160.03it/s]\n",
      "Batches: 100%|██████████| 2/2 [00:00<00:00,  8.55it/s]\n",
      "Batches: 100%|██████████| 1/1 [00:00<00:00, 123.42it/s]\n",
      "Batches: 100%|██████████| 2/2 [00:00<00:00,  5.86it/s]\n",
      "Batches: 100%|██████████| 1/1 [00:00<00:00, 143.00it/s]\n",
      "Batches: 100%|██████████| 3/3 [00:00<00:00,  9.40it/s]\n",
      "Batches: 100%|██████████| 1/1 [00:00<00:00, 156.83it/s]\n",
      "Batches: 100%|██████████| 1/1 [00:00<00:00,  3.07it/s]\n",
      "Batches: 100%|██████████| 1/1 [00:00<00:00, 163.41it/s]\n",
      "Batches: 100%|██████████| 3/3 [00:00<00:00,  8.85it/s]\n",
      "Batches: 100%|██████████| 1/1 [00:00<00:00, 124.99it/s]\n",
      "Batches: 100%|██████████| 2/2 [00:00<00:00,  5.08it/s]\n",
      "Batches: 100%|██████████| 1/1 [00:00<00:00, 144.84it/s]\n",
      "Batches: 100%|██████████| 2/2 [00:00<00:00,  6.55it/s]\n",
      "Batches: 100%|██████████| 1/1 [00:00<00:00, 153.38it/s]\n",
      "Batches: 100%|██████████| 2/2 [00:00<00:00,  7.91it/s]\n",
      "Batches: 100%|██████████| 1/1 [00:00<00:00, 166.94it/s]\n",
      "Batches: 100%|██████████| 2/2 [00:00<00:00,  3.42it/s]\n",
      "Batches: 100%|██████████| 1/1 [00:00<00:00, 145.23it/s]\n",
      "Batches: 100%|██████████| 2/2 [00:00<00:00,  3.55it/s]\n",
      "Batches: 100%|██████████| 1/1 [00:00<00:00, 138.42it/s]\n",
      "Batches: 100%|██████████| 7/7 [00:00<00:00, 15.19it/s]\n",
      "Batches: 100%|██████████| 1/1 [00:00<00:00, 200.09it/s]\n",
      "Batches: 100%|██████████| 8/8 [00:00<00:00, 13.00it/s]\n",
      "Batches: 100%|██████████| 1/1 [00:00<00:00, 167.50it/s]\n",
      "Batches: 100%|██████████| 5/5 [00:00<00:00, 24.50it/s]\n",
      "Batches: 100%|██████████| 1/1 [00:00<00:00, 142.96it/s]\n",
      "Batches: 100%|██████████| 4/4 [00:00<00:00,  6.42it/s]\n",
      "Batches: 100%|██████████| 1/1 [00:00<00:00, 142.82it/s]\n",
      "Batches: 100%|██████████| 2/2 [00:00<00:00,  7.04it/s]\n",
      "Batches: 100%|██████████| 1/1 [00:00<00:00, 164.20it/s]\n",
      "Batches: 100%|██████████| 3/3 [00:00<00:00,  7.28it/s]\n",
      "Batches: 100%|██████████| 1/1 [00:00<00:00, 165.97it/s]\n",
      "Batches: 100%|██████████| 4/4 [00:00<00:00, 13.75it/s]\n",
      "Batches: 100%|██████████| 1/1 [00:00<00:00, 143.91it/s]\n",
      "Batches: 100%|██████████| 7/7 [00:00<00:00, 24.72it/s]\n",
      "Batches: 100%|██████████| 1/1 [00:00<00:00, 163.29it/s]\n",
      "Batches: 100%|██████████| 2/2 [00:00<00:00,  6.21it/s]\n",
      "Batches: 100%|██████████| 1/1 [00:00<00:00, 133.16it/s]\n",
      "Batches: 100%|██████████| 1/1 [00:00<00:00,  4.74it/s]\n",
      "Batches: 100%|██████████| 1/1 [00:00<00:00, 116.65it/s]\n",
      "Batches: 100%|██████████| 3/3 [00:00<00:00,  5.82it/s]\n",
      "Batches: 100%|██████████| 1/1 [00:00<00:00, 169.60it/s]\n",
      "Batches: 100%|██████████| 12/12 [00:00<00:00, 31.46it/s]\n",
      "Batches: 100%|██████████| 1/1 [00:00<00:00, 169.49it/s]\n",
      "Batches: 100%|██████████| 1/1 [00:00<00:00,  4.41it/s]\n",
      "Batches: 100%|██████████| 1/1 [00:00<00:00, 166.82it/s]\n",
      "Batches: 100%|██████████| 3/3 [00:00<00:00, 12.55it/s]\n",
      "Batches: 100%|██████████| 1/1 [00:00<00:00, 164.48it/s]\n",
      "Batches: 100%|██████████| 3/3 [00:00<00:00, 10.62it/s]\n",
      "Batches: 100%|██████████| 1/1 [00:00<00:00, 136.47it/s]\n",
      "Batches: 100%|██████████| 5/5 [00:00<00:00,  7.70it/s]\n",
      "Batches: 100%|██████████| 1/1 [00:00<00:00, 147.25it/s]\n",
      "Batches: 100%|██████████| 1/1 [00:00<00:00,  4.11it/s]\n",
      "Batches: 100%|██████████| 1/1 [00:00<00:00, 199.30it/s]\n",
      "Batches: 100%|██████████| 2/2 [00:00<00:00,  6.71it/s]\n",
      "Batches: 100%|██████████| 1/1 [00:00<00:00, 60.82it/s]\n",
      "Batches: 100%|██████████| 2/2 [00:00<00:00,  7.09it/s]\n"
     ]
    }
   ],
   "source": [
    "emb_lib.multi_sec_embed(skip_existing=False)"
   ]
  },
  {
   "cell_type": "code",
   "execution_count": 6,
   "metadata": {},
   "outputs": [],
   "source": [
    "paper_embs = []\n",
    "for file in sorted(path_to_embs.iterdir()):\n",
    "    paper_embs.append(np.load(file))\n",
    "all_embs = np.concatenate(paper_embs, axis=0)"
   ]
  },
  {
   "cell_type": "code",
   "execution_count": 7,
   "metadata": {},
   "outputs": [
    {
     "data": {
      "text/plain": [
       "(46, 768)"
      ]
     },
     "execution_count": 7,
     "metadata": {},
     "output_type": "execute_result"
    }
   ],
   "source": [
    "all_embs.shape"
   ]
  },
  {
   "cell_type": "code",
   "execution_count": 8,
   "metadata": {},
   "outputs": [],
   "source": [
    "embs = emb_lib.get_paper_embs()"
   ]
  },
  {
   "cell_type": "code",
   "execution_count": 9,
   "metadata": {},
   "outputs": [],
   "source": [
    "mapper = umap.UMAP().fit(embs)"
   ]
  },
  {
   "cell_type": "code",
   "execution_count": 10,
   "metadata": {},
   "outputs": [
    {
     "data": {
      "image/png": "[encoded data removed]",
      "text/plain": [
       "<Figure size 800x800 with 1 Axes>"
      ]
     },
     "metadata": {},
     "output_type": "display_data"
    }
   ],
   "source": [
    "\n",
    "p = umap.plot.points(mapper, labels=pd.Series([i for i in range(embs.shape[0])]), show_legend=False)\n",
    "umap.plot.show(p)"
   ]
  },
  {
   "cell_type": "code",
   "execution_count": 11,
   "metadata": {},
   "outputs": [],
   "source": [
    "model.similarity_fn_name = SimilarityFunction.COSINE"
   ]
  },
  {
   "cell_type": "code",
   "execution_count": 12,
   "metadata": {},
   "outputs": [
    {
     "data": {
      "text/plain": [
       "tensor([[1.0000, 0.1973, 0.3841,  ..., 0.5426, 0.3374, 0.3162],\n",
       "        [0.1973, 1.0000, 0.3558,  ..., 0.2475, 0.3143, 0.4754],\n",
       "        [0.3841, 0.3558, 1.0000,  ..., 0.3466, 0.4973, 0.3639],\n",
       "        ...,\n",
       "        [0.5426, 0.2475, 0.3466,  ..., 1.0000, 0.3382, 0.3323],\n",
       "        [0.3374, 0.3143, 0.4973,  ..., 0.3382, 1.0000, 0.2821],\n",
       "        [0.3162, 0.4754, 0.3639,  ..., 0.3323, 0.2821, 1.0000]])"
      ]
     },
     "execution_count": 12,
     "metadata": {},
     "output_type": "execute_result"
    }
   ],
   "source": [
    "model.similarity(embs, embs)"
   ]
  },
  {
   "cell_type": "code",
   "execution_count": 21,
   "metadata": {},
   "outputs": [
    {
     "name": "stdout",
     "output_type": "stream",
     "text": [
      "['Next-generation (NextG) networks promise to support ultra-reliable and low-latency communication for rapidly evolving wireless devices. Emerging networks are thus challenged to establish new features (e.g., adaptive coding and enhanced modulation) to overcome rapidly changing channel conditions and to achieve more efficient use of spectrum.', 'Machine Learning (ML) overcomes this barrier by revolutionizing the entire wireless network protocol stack.', 'Recent research introduces joint source-channel coding (JSCC), an end-to-end wireless communication system leveraging deep neural networks (DNNs) for both transmitter and receiver. This ML approach jointly optimizes source and channel coding in a cross-layer framework to handle diverse and challenging channel conditions.', 'To effectively cope with the multipath fading effects, the JSCC-encoded data can be further modulated into continuous signal waveforms through orthogonal frequency division multiplexing (OFDM).', 'The DNN models for JSCC are tailored to specific modalities (e.g., texts, images, etc.), so as to convey semantic information more accurately than traditional communication systems (seesectionII-B).', 'The advantages of such ML-based communication systems are increasingly recognized by standardization bodies such as the Third Generation Partnership Project (3GPP).Industry leaders, such as Apple, Huawei, Nokia Bell Labs, Qualcomm, and ZTE are also investigating AI-native 6G communications. NVIDIA has established an ML-based, GPU-accelerated communication signal processing framework for 6G applications. These developments underscore the growing consensus that ML-based wireless communications will play a crucial role in shaping the future of 6G technology.', 'Unfortunately, ML is vulnerable to adversarial attacks, where small, imperceptible changes to input can yield substantial changes in the model’s output.', 'The susceptibility of the models to adversarial examples raises serious concerns for the safety of ML adoption in NextG.', 'Traditional jamming or overshadowing attacks have been dedicated to developing a malicious RF device to disrupt legitimate wireless communications. However, these approaches typically rely on high-power transmissions to cause large-scale disruptions in the spectrum, leading spectrum owners to respond swiftly.', 'Highly effective attacks that use low signal strengths are missing in this literature.', 'There have been recent works on small signal manipulations designed to target ML-based wireless systems.', 'However, they make unrealistic assumptions about the attacker’s capabilities. For example, even though JSCC has a modality-specific structure, they assume that only a single modality (e.g., one-hot vector message or image) is wirelessly communicated. They also assume that the adversary knows which modality is sent by the transmitter.', 'In practice, the above assumptions are not valid for the following reasons: 1) the transmitter typically incorporates data from all modalities into the data blocks and then sends them to the receiver; 2) if the adversary wants to recognize the modality of the signal, it needs to have access to the target ML model that carries out JSCC, and this is not always feasible, and 3) even if the adversary can detect the modality, high latency occurs until perturbations are generated and added to the victim signal.', 'We propose Magmaw, a new hardware-driven wireless attack framework that creates universal adversarial perturbations (UAPs) to subvert ML-based wireless systems. We show for the first time that modulated multimodal data can be perturbed by adversaries, resulting in failure to restore the original data as well as subversion of downstream services. We consider examples of downstream services such as video classification (VC), which analyzes human activity from video, and audio-visual event recognition (AVE) which predicts the event label based on representations over multiple input modalities.', 'Magmaw can cause significant disruptions or threaten user safety in quality-sensitive applications, e.g., remote surgery and autonomous driving, as illustrated in Figure1. Emerging applications (e.g., XR) would suffer even more from the corruption of multiple input modalities.', 'Magmaw must address four main design challenges.Firstly, we assume that the adversary lacks prior knowledge about the data’s modality and the exact channel model. Additionally, the attacker’s ability to adjust its transmit signal pattern effectively depends on knowing the channel matrix between the sender and receiver ().', 'However, sincevaries due to factors like link distance, mobility, and environment, not having this information makes crafting an effective attack challenging.', 'We solve the above challenges by designing a perturbation generator model (PGM) trained to create input- and channel-agnostic perturbations on surrogate wireless models. We adopt an ensemble learning approach that utilizes surrogate multimodal JSCC models to learn UAPs.', 'Secondly, previous attacks do not consider that the input signal can be adjusted by physical layer protocols (seesectionII-C). They only focus on the scenarios where the adversary has prior knowledge of the protocol’s full setup. In a practical scenario, the attacker does not know the constellation mapping or how the OFDM system assigns the complex symbols to multiple subcarriers.It is possible to design an attacker that recognizes the protocol from the transmitted signals. However, since wireless protocols change rapidly depending on the channel state, the analyzed output quickly becomes obsolete. A protocol-agnostic attack is required.We address this challenge by incorporating multiple controllable parameters inside the ensemble learning to optimize perturbations generalizable across all modulated data.', 'Thirdly, an adversarial wireless device may not be precisely synchronized with a legitimate transmitter or receiver in the time or frequency domain, reducing the effectiveness of perturbations.', 'We address de-synchronization issues between the adversarial device and the legitimate transmitter/receiver using our offline training procedure. Specifically, we train the PGM using time shift and phase rotation functions, ensuring that UAPs remain effective even with varying offsets.', 'Finally, previous studies are vulnerable to adaptive defenses. For instance, a perturbation detector can exploit traces of perturbations to predict whether the input is perturbed. This is because their perturbations are overly rigid and lacking in variability due to overfitting. To craft robust and diverse perturbations, we introduce a discriminator and diversity loss to regularize the learning process explicitly.', 'After integrating the above solutions, we implement Magmaw on the software-defined radio platform and validate its attack feasibility, as shown in AppendixA. Our experiments show that Magmaw degrades the Peak Signal-to-Noise Ratio (PSNR) by up to 8.04dB and 8.29dB for image and video transmission, respectively, where PSNR is a representative image quality score. For speech transmission, Magmaw prevents receivers from recognizing the speech content, increasing the mean square error (MSE) by up to 3.91compared to baseline attacks. Furthermore, Magmaw reduces the bilingual evaluation understudy (BLEU) score to 0.338 points for text transmission, indicating that the received text exhibits significant semantic errors and grammatical inaccuracies. Notably, we achieve up to 91.2attack success rate on the downstream tasks.', 'In our case study, we establish an encryption-based secure image transmission and prove that Magmaw leads to a reduction of up to 5.88dB in PSNR.We also evaluate Magmaw with channel modality-based ML models. Magmaw introduces up tomore error in the ML results than the baseline.', 'In summary, we make the following contributions:', 'We introduce Magmaw,a novel wireless attack frameworkimplemented over software-defined radio against ML-based multimodal communication systems and underlying downstream applications.', 'We adopt an ensemble learning on a set of surrogate JSCCs to craft our UAP input- and protocol-agnostic, i.e., oblivious to the modality, constellation, coding rate, OFDM specifications, and channel conditions.', 'We evaluate Magmaw against various defense techniques, including adaptive ones. Extensive results from case studies further show Magmaw’s efficacy.', 'SECTION: II-AWireless Communication Systems', 'Current communication standards (e.g., 4G LTE, IEEE 802.11 family, 5G NR) follow separate source and channel coding designs and require independent optimization of each component. The source encoder transforms the source data into the embedded source bits. The channel encoder adds redundancy to the transmitted signal, allowing the receiver to correct errors caused by noise. However, these conventional systems suffer from dramatic performance degradation due to the cliff effect where the receiver’s error correction algorithm cannot recover the transmitted data if channel conditions are worse than a certain threshold.', 'ML-driven wireless systems aim to train a robust JSCC encoder and decoder on wireless channels infused with channel conditions similar to the physical world. The JSCC encoder directly maps the source to complex-valued symbols, and the JSCC decoder recovers its estimate directly from the noisy channel output. To adopt the widely used wireless standards, the JSCC models can be concatenated with OFDM to increase the spectral efficiency and reduce the multipath channel effects. Since multipath fading channels and OFDM blocks can be represented as differentiable layers, ML-based wireless systems are trained end-to-end.As such, JSCC can be built without modifying standard radio hardware (e.g., field test 6G with JSCC on 4G LTE). Furthermore, ML-based wireless communication can significantly save channel bandwidth costs compared to conventional systems while achieving the same end-to-end wireless transmission performance.', 'SECTION: II-BModality-Specific JSCC Models', 'Existing JSCC systems adopt modality-specific structures, with each modality requiring a specialized approach for accurate symbol recovery at the receiver.', 'We consider four state-of-the-art JSCC models for image, video, speech, and text transmission.', 'Figure2depicts the commonly used structures for each modality.', 'The image JSCC is trained to minimize distortion on a frame-by-frame basis. The video JSCC leverages spatiotemporal similarities between successive frames to remove the redundancy. To achieve this, the video JSCC adopts the temporal coding structure, which clusters each consecutive sequence of pictures into a group of pictures (GOP). Each frame within the GOP is entered into the video JSCC in coding order rather than display order. This means that the video JSCC encoder compresses frames in a specific order.', 'For a total offrames included in the GOP, the coding order of each frame is determined by the mapping function, where.', 'On the other hand, speech signals contain speaker characteristics such as speech rate and tone. The attention mechanism is utilized for speech JSCC to identify the essential features to help accurately recover speech signals at the receiver. The text JSCC is designed to precisely encode context information and cope with semantic distortion based on Transformers. The text features recovered by the receiver are decoded into the text sentence through a greedy decoder. A cross-entropy loss is used to understand semantic meaning while maximizing system capacity.']\n"
     ]
    },
    {
     "name": "stderr",
     "output_type": "stream",
     "text": [
      "Batches: 100%|██████████| 2/2 [00:00<00:00,  5.28it/s]\n"
     ]
    },
    {
     "data": {
      "text/plain": [
       "['2407.05941v4',\n",
       " '2411.09101v1',\n",
       " '2411.13037v1',\n",
       " '2406.08298v5',\n",
       " '2311.00207v3']"
      ]
     },
     "execution_count": 21,
     "metadata": {},
     "output_type": "execute_result"
    }
   ],
   "source": [
    "# Paper: 2311.00207v3\n",
    "\n",
    "prompt = \"\"\n",
    "response = '''SECTION: IIntroduction\n",
    "\n",
    "Next-generation (NextG) networks promise to support ultra-reliable and low-latency communication for rapidly evolving wireless devices[29]. Emerging networks are thus challenged to establish new features (e.g., adaptive coding and enhanced modulation) to overcome rapidly changing channel conditions and to achieve more efficient use of spectrum[102,63].\n",
    "Machine Learning (ML) overcomes this barrier by revolutionizing the entire wireless network protocol stack[67].\n",
    "\n",
    "Recent research[19]introduces joint source-channel coding (JSCC), an end-to-end wireless communication system leveraging deep neural networks (DNNs) for both transmitter and receiver. This ML approach jointly optimizes source and channel coding in a cross-layer framework to handle diverse and challenging channel conditions.\n",
    "To effectively cope with the multipath fading effects, the JSCC-encoded data can be further modulated into continuous signal waveforms through orthogonal frequency division multiplexing (OFDM)[99].\n",
    "The DNN models for JSCC are tailored to specific modalities (e.g., texts, images, etc.), so as to convey semantic information more accurately than traditional communication systems (seesectionII-B).\n",
    "The advantages of such ML-based communication systems are increasingly recognized by standardization bodies such as the Third Generation Partnership Project (3GPP)[84].Industry leaders, such as Apple[70], Huawei[88], Nokia Bell Labs[7], Qualcomm[64], and ZTE[51]are also investigating AI-native 6G communications. NVIDIA has established an ML-based, GPU-accelerated communication signal processing framework[39]for 6G applications. These developments underscore the growing consensus that ML-based wireless communications will play a crucial role in shaping the future of 6G technology.\n",
    "\n",
    "Unfortunately, ML is vulnerable to adversarial attacks[77,16], where small, imperceptible changes to input can yield substantial changes in the model’s output.\n",
    "The susceptibility of the models to adversarial examples raises serious concerns for the safety of ML adoption in NextG.\n",
    "\n",
    "Traditional jamming or overshadowing attacks[93,97,76,30]have been dedicated to developing a malicious RF device to disrupt legitimate wireless communications. However, these approaches typically rely on high-power transmissions to cause large-scale disruptions in the spectrum, leading spectrum owners to respond swiftly.\n",
    "Highly effective attacks that use low signal strengths are missing in this literature.\n",
    "\n",
    "There have been recent works on small signal manipulations designed to target ML-based wireless systems[13,60,48,40,55].\n",
    "However, they make unrealistic assumptions about the attacker’s capabilities. For example, even though JSCC has a modality-specific structure, they assume that only a single modality (e.g., one-hot vector message or image) is wirelessly communicated. They also assume that the adversary knows which modality is sent by the transmitter.\n",
    "In practice, the above assumptions are not valid for the following reasons: 1) the transmitter typically incorporates data from all modalities into the data blocks and then sends them to the receiver; 2) if the adversary wants to recognize the modality of the signal, it needs to have access to the target ML model that carries out JSCC, and this is not always feasible, and 3) even if the adversary can detect the modality, high latency occurs until perturbations are generated and added to the victim signal.\n",
    "\n",
    "We propose Magmaw, a new hardware-driven wireless attack framework that creates universal adversarial perturbations (UAPs) to subvert ML-based wireless systems. We show for the first time that modulated multimodal data can be perturbed by adversaries, resulting in failure to restore the original data as well as subversion of downstream services. We consider examples of downstream services such as video classification (VC), which analyzes human activity from video, and audio-visual event recognition (AVE) which predicts the event label based on representations over multiple input modalities.\n",
    "Magmaw can cause significant disruptions or threaten user safety in quality-sensitive applications, e.g., remote surgery[4]and autonomous driving[37], as illustrated in Figure1. Emerging applications (e.g., XR[49]) would suffer even more from the corruption of multiple input modalities.\n",
    "\n",
    "Magmaw must address four main design challenges.Firstly, we assume that the adversary lacks prior knowledge about the data’s modality and the exact channel model. Additionally, the attacker’s ability to adjust its transmit signal pattern effectively depends on knowing the channel matrix between the sender and receiver ().\n",
    "However, sincevaries due to factors like link distance, mobility, and environment, not having this information makes crafting an effective attack challenging.\n",
    "We solve the above challenges by designing a perturbation generator model (PGM) trained to create input- and channel-agnostic perturbations on surrogate wireless models. We adopt an ensemble learning approach that utilizes surrogate multimodal JSCC models to learn UAPs.\n",
    "\n",
    "Secondly, previous attacks[13,60,48,40,55]do not consider that the input signal can be adjusted by physical layer protocols (seesectionII-C). They only focus on the scenarios where the adversary has prior knowledge of the protocol’s full setup. In a practical scenario, the attacker does not know the constellation mapping or how the OFDM system assigns the complex symbols to multiple subcarriers.It is possible to design an attacker that recognizes the protocol from the transmitted signals[73]. However, since wireless protocols change rapidly depending on the channel state, the analyzed output quickly becomes obsolete. A protocol-agnostic attack is required.We address this challenge by incorporating multiple controllable parameters inside the ensemble learning to optimize perturbations generalizable across all modulated data.\n",
    "\n",
    "Thirdly, an adversarial wireless device may not be precisely synchronized with a legitimate transmitter or receiver in the time or frequency domain, reducing the effectiveness of perturbations.\n",
    "We address de-synchronization issues between the adversarial device and the legitimate transmitter/receiver using our offline training procedure. Specifically, we train the PGM using time shift and phase rotation functions, ensuring that UAPs remain effective even with varying offsets.\n",
    "\n",
    "Finally, previous studies[13,55]are vulnerable to adaptive defenses. For instance, a perturbation detector[94]can exploit traces of perturbations to predict whether the input is perturbed. This is because their perturbations are overly rigid and lacking in variability due to overfitting[35]. To craft robust and diverse perturbations, we introduce a discriminator and diversity loss to regularize the learning process explicitly.\n",
    "\n",
    "After integrating the above solutions, we implement Magmaw on the software-defined radio platform and validate its attack feasibility, as shown in AppendixA. Our experiments show that Magmaw degrades the Peak Signal-to-Noise Ratio (PSNR) by up to 8.04dB and 8.29dB for image and video transmission, respectively, where PSNR is a representative image quality score. For speech transmission, Magmaw prevents receivers from recognizing the speech content, increasing the mean square error (MSE) by up to 3.91compared to baseline attacks. Furthermore, Magmaw reduces the bilingual evaluation understudy (BLEU) score to 0.338 points for text transmission, indicating that the received text exhibits significant semantic errors and grammatical inaccuracies. Notably, we achieve up to 91.2attack success rate on the downstream tasks.\n",
    "In our case study, we establish an encryption-based secure image transmission and prove that Magmaw leads to a reduction of up to 5.88dB in PSNR.We also evaluate Magmaw with channel modality-based ML models. Magmaw introduces up tomore error in the ML results than the baseline.\n",
    "\n",
    "In summary, we make the following contributions:\n",
    "\n",
    "We introduce Magmaw,a novel wireless attack frameworkimplemented over software-defined radio against ML-based multimodal communication systems and underlying downstream applications.\n",
    "\n",
    "We adopt an ensemble learning on a set of surrogate JSCCs to craft our UAP input- and protocol-agnostic, i.e., oblivious to the modality, constellation, coding rate, OFDM specifications, and channel conditions.\n",
    "\n",
    "We evaluate Magmaw against various defense techniques, including adaptive ones. Extensive results from case studies further show Magmaw’s efficacy.\n",
    "\n",
    "SECTION: IIBackground\n",
    "\n",
    "SECTION: II-AWireless Communication Systems\n",
    "\n",
    "Current communication standards (e.g., 4G LTE[3], IEEE 802.11 family[41], 5G NR[50]) follow separate source and channel coding designs and require independent optimization of each component. The source encoder transforms the source data into the embedded source bits. The channel encoder adds redundancy to the transmitted signal, allowing the receiver to correct errors caused by noise. However, these conventional systems suffer from dramatic performance degradation due to the cliff effect where the receiver’s error correction algorithm cannot recover the transmitted data if channel conditions are worse than a certain threshold[19].\n",
    "\n",
    "ML-driven wireless systems aim to train a robust JSCC encoder and decoder on wireless channels infused with channel conditions similar to the physical world. The JSCC encoder directly maps the source to complex-valued symbols, and the JSCC decoder recovers its estimate directly from the noisy channel output. To adopt the widely used wireless standards, the JSCC models can be concatenated with OFDM to increase the spectral efficiency and reduce the multipath channel effects[99]. Since multipath fading channels and OFDM blocks can be represented as differentiable layers, ML-based wireless systems are trained end-to-end.As such, JSCC can be built without modifying standard radio hardware (e.g., field test 6G with JSCC on 4G LTE[85]). Furthermore, ML-based wireless communication can significantly save channel bandwidth costs compared to conventional systems while achieving the same end-to-end wireless transmission performance[100].\n",
    "\n",
    "SECTION: II-BModality-Specific JSCC Models\n",
    "\n",
    "Existing JSCC systems[99,83,89,91]adopt modality-specific structures, with each modality requiring a specialized approach for accurate symbol recovery at the receiver.\n",
    "We consider four state-of-the-art JSCC models for image[99], video[83], speech[89], and text transmission[91].\n",
    "Figure2depicts the commonly used structures for each modality.\n",
    "The image JSCC is trained to minimize distortion on a frame-by-frame basis. The video JSCC leverages spatiotemporal similarities between successive frames to remove the redundancy. To achieve this, the video JSCC adopts the temporal coding structure, which clusters each consecutive sequence of pictures into a group of pictures (GOP). Each frame within the GOP is entered into the video JSCC in coding order rather than display order. This means that the video JSCC encoder compresses frames in a specific order.\n",
    "For a total offrames included in the GOP, the coding order of each frame is determined by the mapping function, where.\n",
    "On the other hand, speech signals contain speaker characteristics such as speech rate and tone. The attention mechanism[89]is utilized for speech JSCC to identify the essential features to help accurately recover speech signals at the receiver. The text JSCC is designed to precisely encode context information and cope with semantic distortion based on Transformers[82]. The text features recovered by the receiver are decoded into the text sentence through a greedy decoder[86]. A cross-entropy loss[47]is used to understand semantic meaning while maximizing system capacity.'''\n",
    "\n",
    "r_secs = emb_lib.preprocess_llm_response(prompt, response)\n",
    "print(r_secs)\n",
    "r_emb = emb_lib.model.encode(r_secs, normalize_embeddings=emb_lib.norm_embs).mean(axis=0)\n",
    "scores = emb_lib.model.similarity(r_emb, emb_lib.paper_embs)\n",
    "top_n_idxs = np.argsort(scores).tolist()[0][-5:]\n",
    "top_paper_ids = [emb_lib.paper_ids[idx] for idx in top_n_idxs]\n",
    "top_paper_ids"
   ]
  },
  {
   "cell_type": "code",
   "execution_count": 19,
   "metadata": {},
   "outputs": [
    {
     "data": {
      "text/plain": [
       "True"
      ]
     },
     "execution_count": 19,
     "metadata": {},
     "output_type": "execute_result"
    }
   ],
   "source": [
    "emb_lib.paper_ids == [file.stem for file in sorted(path_to_embs.iterdir())]"
   ]
  },
  {
   "cell_type": "code",
   "execution_count": 17,
   "metadata": {},
   "outputs": [
    {
     "data": {
      "text/plain": [
       "[22, 38, 4, 33, 35]"
      ]
     },
     "execution_count": 17,
     "metadata": {},
     "output_type": "execute_result"
    }
   ],
   "source": [
    "top_n_idxs"
   ]
  },
  {
   "cell_type": "markdown",
   "metadata": {},
   "source": [
    "**These results are sub-par**\n",
    "\n",
    "### Finetuning"
   ]
  },
  {
   "cell_type": "code",
   "execution_count": 8,
   "metadata": {},
   "outputs": [],
   "source": [
    "import re"
   ]
  },
  {
   "cell_type": "code",
   "execution_count": 6,
   "metadata": {},
   "outputs": [],
   "source": [
    "txt = '''SECTION: Delegating Data Collection in Decentralized Machine Learning\n",
    "\n",
    "Motivated by the emergence of decentralized machine learning (ML) ecosystems, we study the delegation of data collection. Taking the field of contract theory as our starting point, we design optimal and near-optimal contracts that deal with two fundamental information asymmetries that arise in decentralized ML: uncertainty in the assessment of model quality and uncertainty regarding the optimal performance of any model. We show that a principal can cope with such asymmetry via simple linear contracts that achievefraction of the optimal utility. To address the lack of a priori knowledge regarding the optimal performance, we give a convex program that can adaptively and efficiently compute the optimal contract. We also study linear contracts and derive the optimal utility in the more complex setting of multiple interactions.\n",
    "\n",
    "SECTION: 1Introduction\n",
    "\n",
    "The design of machine learning pipelines is increasingly a cooperative, distributed endeavor, in which the expertise needed for the design of various components of an overall pipeline is spread across many stakeholders. Such'''"
   ]
  },
  {
   "cell_type": "code",
   "execution_count": 9,
   "metadata": {},
   "outputs": [],
   "source": [
    "chunks = [\n",
    "    chunk\n",
    "    for sec in re.split(r'SECTION:\\s+[\\d\\.]*.*\\n', txt)\n",
    "    for chunk in sec.strip('\\n').split('\\n')\n",
    "    if chunk != ''\n",
    "]"
   ]
  },
  {
   "cell_type": "code",
   "execution_count": 10,
   "metadata": {},
   "outputs": [
    {
     "data": {
      "text/plain": [
       "['Motivated by the emergence of decentralized machine learning (ML) ecosystems, we study the delegation of data collection. Taking the field of contract theory as our starting point, we design optimal and near-optimal contracts that deal with two fundamental information asymmetries that arise in decentralized ML: uncertainty in the assessment of model quality and uncertainty regarding the optimal performance of any model. We show that a principal can cope with such asymmetry via simple linear contracts that achievefraction of the optimal utility. To address the lack of a priori knowledge regarding the optimal performance, we give a convex program that can adaptively and efficiently compute the optimal contract. We also study linear contracts and derive the optimal utility in the more complex setting of multiple interactions.',\n",
       " 'The design of machine learning pipelines is increasingly a cooperative, distributed endeavor, in which the expertise needed for the design of various components of an overall pipeline is spread across many stakeholders. Such']"
      ]
     },
     "execution_count": 10,
     "metadata": {},
     "output_type": "execute_result"
    }
   ],
   "source": [
    "chunks"
   ]
  },
  {
   "cell_type": "code",
   "execution_count": 34,
   "metadata": {},
   "outputs": [
    {
     "data": {
      "text/plain": [
       "['Motivated by the emergence of decentralized machine learning (ML) ecosystems, we study the delegation of data collection. Taking the field of contract theory as our starting point, we design optimal and near-optimal contracts that deal with two fundamental information asymmetries that arise in decentralized ML: uncertainty in the assessment of model quality and uncertainty regarding the optimal performance of any model. We show that a principal can cope with such asymmetry via simple linear contracts that achievefraction of the optimal utility. To address the lack of a priori knowledge regarding the optimal performance, we give a convex program that can adaptively and efficiently compute the optimal contract. We also study linear contracts and derive the optimal utility in the more complex setting of multiple interactions.',\n",
       " 'The design of machine learning pipelines is increasingly a cooperative, distributed endeavor, in which the expertise needed for the design of various components of an overall pipeline is spread across many stakeholders. Such']"
      ]
     },
     "execution_count": 34,
     "metadata": {},
     "output_type": "execute_result"
    }
   ],
   "source": [
    "secs = [\n",
    "    chunk\n",
    "    for sec in re.split(r'SECTION:\\s+[\\d\\.]*.*\\n', txt)\n",
    "    for chunk in sec.strip('\\n').split('\\n')\n",
    "    if chunk != ''\n",
    "]\n",
    "secs"
   ]
  },
  {
   "cell_type": "code",
   "execution_count": 25,
   "metadata": {},
   "outputs": [
    {
     "data": {
      "text/plain": [
       "<re.Match object; span=(0, 70), match='SECTION: Delegating Data Collection in Decentrali>"
      ]
     },
     "execution_count": 25,
     "metadata": {},
     "output_type": "execute_result"
    }
   ],
   "source": [
    "cln_txt = re.search(r'SECTION:\\s+[\\d\\.]*(.*)\\n', txt, flags=re.IGNORECASE)\n",
    "cln_txt"
   ]
  },
  {
   "cell_type": "code",
   "execution_count": 28,
   "metadata": {},
   "outputs": [
    {
     "data": {
      "text/plain": [
       "'Delegating Data Collection in Decentralized Machine Learning'"
      ]
     },
     "execution_count": 28,
     "metadata": {},
     "output_type": "execute_result"
    }
   ],
   "source": [
    "cln_txt.group(1)"
   ]
  },
  {
   "cell_type": "code",
   "execution_count": 12,
   "metadata": {},
   "outputs": [],
   "source": [
    "from sentence_transformers import InputExample"
   ]
  },
  {
   "cell_type": "code",
   "execution_count": null,
   "metadata": {},
   "outputs": [],
   "source": [
    "# prepare data"
   ]
  },
  {
   "cell_type": "code",
   "execution_count": 13,
   "metadata": {},
   "outputs": [
    {
     "data": {
      "text/plain": [
       "sentence_transformers.readers.InputExample.InputExample"
      ]
     },
     "execution_count": 13,
     "metadata": {},
     "output_type": "execute_result"
    }
   ],
   "source": [
    "InputExample(texts=[text, text] for text in )."
   ]
  },
  {
   "cell_type": "code",
   "execution_count": null,
   "metadata": {},
   "outputs": [],
   "source": [
    "\n",
    "\n",
    "# DataLoader to batch your data\n",
    "train_dataloader = DataLoader(train_data, batch_size=20, shuffle=True)\n",
    "\n",
    "# Use the MultipleNegativesRankingLoss\n",
    "train_loss = losses.MultipleNegativesRankingLoss(model)"
   ]
  }
 ],
 "metadata": {
  "kernelspec": {
   "display_name": "GroupProject",
   "language": "python",
   "name": "python3"
  },
  "language_info": {
   "codemirror_mode": {
    "name": "ipython",
    "version": 3
   },
   "file_extension": ".py",
   "mimetype": "text/x-python",
   "name": "python",
   "nbconvert_exporter": "python",
   "pygments_lexer": "ipython3",
   "version": "3.10.6"
  }
 },
 "nbformat": 4,
 "nbformat_minor": 2
}
