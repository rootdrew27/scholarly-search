{
 "cells": [
  {
   "cell_type": "code",
   "execution_count": 11,
   "metadata": {},
   "outputs": [],
   "source": [
    "import hdbscan\n",
    "import numpy as np\n",
    "from sklearn.metrics import v_measure_score\n",
    "from sklearn.cluster import KMeans\n",
    "import umap    \n",
    "import umap.plot\n",
    "\n",
    "from pathlib import Path\n",
    "import numpy as np\n",
    "import pandas as pd\n",
    "from sentence_transformers import SentenceTransformer, SimilarityFunction\n",
    "import sys\n",
    "import os\n",
    "\n",
    "SCRIPT_DIR = Path.cwd().parent\n",
    "sys.path.insert(0, str(SCRIPT_DIR))\n",
    "\n",
    "from embeddings.embedding_library import EmbeddingLibrary"
   ]
  },
  {
   "cell_type": "code",
   "execution_count": 4,
   "metadata": {},
   "outputs": [],
   "source": [
    "path_to_papers = Path(r'../papers')\n",
    "path_to_embs = Path(r'../data/embeddings')\n",
    "\n",
    "# should all be lower case\n",
    "end_of_paper_words = [\n",
    "    'references',\n",
    "    'acknowledgements', \n",
    "    'acknowledgement',\n",
    "]\n",
    "\n",
    "papers_to_skip = [\n",
    "    '2311.11329v2_content.txt',\n",
    "    '2411.09324v2_content.txt',\n",
    "    '2411.14259v1_content.txt'\n",
    "]"
   ]
  },
  {
   "cell_type": "code",
   "execution_count": 36,
   "metadata": {},
   "outputs": [],
   "source": [
    "model = SentenceTransformer('sentence-transformers/all-distilroberta-v1', device='cuda')"
   ]
  },
  {
   "cell_type": "code",
   "execution_count": 47,
   "metadata": {},
   "outputs": [
    {
     "name": "stderr",
     "output_type": "stream",
     "text": [
      "Batches: 100%|██████████| 1/1 [00:00<00:00, 14.24it/s]\n"
     ]
    },
    {
     "data": {
      "text/plain": [
       "(2, 768)"
      ]
     },
     "execution_count": 47,
     "metadata": {},
     "output_type": "execute_result"
    }
   ],
   "source": [
    "model.encode(['hello from the beyond', 'this is the end my firend']).shape"
   ]
  },
  {
   "cell_type": "code",
   "execution_count": 40,
   "metadata": {},
   "outputs": [],
   "source": [
    "emb_lib = EmbeddingLibrary(\n",
    "    path_to_papers=path_to_papers,\n",
    "    path_to_embs=path_to_embs,\n",
    "    model=model,\n",
    "    end_of_paper_words=end_of_paper_words,\n",
    "    papers_to_skip=papers_to_skip,\n",
    "    name=\"Prototype\",\n",
    "    path_to_log=Path(\"../log\")\n",
    ")"
   ]
  },
  {
   "cell_type": "code",
   "execution_count": 45,
   "metadata": {},
   "outputs": [
    {
     "data": {
      "text/plain": [
       "(3,)"
      ]
     },
     "execution_count": 45,
     "metadata": {},
     "output_type": "execute_result"
    }
   ],
   "source": [
    "x1 = np.array([[1,2,3], [1,2,3]])\n",
    "x2 = np.array([[1,2,3], [1,2,3], [1,2,3]])\n",
    "\n",
    "x3 = np.concatenate([x1, x2])\n",
    "x3.mean(axis=0).shape"
   ]
  },
  {
   "cell_type": "code",
   "execution_count": 41,
   "metadata": {},
   "outputs": [
    {
     "name": "stderr",
     "output_type": "stream",
     "text": [
      "Batches: 100%|██████████| 1/1 [00:00<00:00, 16.64it/s]\n",
      "Batches: 100%|██████████| 1/1 [00:00<00:00,  8.52it/s]\n",
      "Batches: 100%|██████████| 1/1 [00:00<00:00,  5.44it/s]\n",
      "Batches: 100%|██████████| 1/1 [00:00<00:00, 36.75it/s]\n",
      "Batches: 100%|██████████| 1/1 [00:00<00:00, 43.41it/s]\n",
      "Batches: 100%|██████████| 1/1 [00:00<00:00, 85.89it/s]\n",
      "Batches: 100%|██████████| 1/1 [00:00<00:00, 78.79it/s]\n",
      "Batches: 100%|██████████| 1/1 [00:00<00:00, 29.08it/s]\n",
      "Batches: 100%|██████████| 1/1 [00:00<00:00, 15.97it/s]\n",
      "Batches: 100%|██████████| 1/1 [00:00<00:00, 16.03it/s]\n",
      "Batches: 100%|██████████| 1/1 [00:00<00:00, 17.52it/s]\n",
      "Batches: 100%|██████████| 1/1 [00:00<00:00, 50.16it/s]\n",
      "Batches: 100%|██████████| 1/1 [00:00<00:00, 12.74it/s]\n",
      "Batches: 100%|██████████| 1/1 [00:00<00:00, 53.78it/s]\n",
      "Batches: 100%|██████████| 1/1 [00:00<00:00, 30.89it/s]\n",
      "Batches: 100%|██████████| 1/1 [00:00<00:00, 25.92it/s]\n",
      "Batches: 100%|██████████| 1/1 [00:00<00:00, 37.24it/s]\n"
     ]
    },
    {
     "name": "stdout",
     "output_type": "stream",
     "text": [
      "SHIT\n",
      "cannot reshape array of size 1 into shape (1,768)\n"
     ]
    },
    {
     "ename": "ValueError",
     "evalue": "cannot reshape array of size 1 into shape (1,768)",
     "output_type": "error",
     "traceback": [
      "\u001b[1;31m---------------------------------------------------------------------------\u001b[0m",
      "\u001b[1;31mValueError\u001b[0m                                Traceback (most recent call last)",
      "Cell \u001b[1;32mIn[41], line 1\u001b[0m\n\u001b[1;32m----> 1\u001b[0m \u001b[43memb_lib\u001b[49m\u001b[38;5;241;43m.\u001b[39;49m\u001b[43mmulti_sec_embed\u001b[49m\u001b[43m(\u001b[49m\u001b[43mskip_existing\u001b[49m\u001b[38;5;241;43m=\u001b[39;49m\u001b[38;5;28;43;01mFalse\u001b[39;49;00m\u001b[43m)\u001b[49m\n",
      "File \u001b[1;32mc:\\Users\\rooty\\UWEC\\Fall 24\\CS 426\\GroupProject\\GroupProject\\scholarly-search\\embeddings\\embedding_library.py:125\u001b[0m, in \u001b[0;36mEmbeddingLibrary.multi_sec_embed\u001b[1;34m(self, skip_existing, encoding)\u001b[0m\n\u001b[0;32m    123\u001b[0m \u001b[38;5;28;01mexcept\u001b[39;00m \u001b[38;5;167;01mException\u001b[39;00m \u001b[38;5;28;01mas\u001b[39;00m ex:\n\u001b[0;32m    124\u001b[0m     \u001b[38;5;28mprint\u001b[39m(\u001b[38;5;124m'\u001b[39m\u001b[38;5;124mSHIT\u001b[39m\u001b[38;5;124m'\u001b[39m)\n\u001b[1;32m--> 125\u001b[0m     \u001b[38;5;28mprint\u001b[39m(ex)\n\u001b[0;32m    126\u001b[0m     \u001b[38;5;28;01mraise\u001b[39;00m ex\n",
      "File \u001b[1;32mc:\\Users\\rooty\\UWEC\\Fall 24\\CS 426\\GroupProject\\GroupProject\\scholarly-search\\embeddings\\embedding_library.py:112\u001b[0m, in \u001b[0;36mEmbeddingLibrary.multi_sec_embed\u001b[1;34m(self, skip_existing, encoding)\u001b[0m\n\u001b[0;32m    109\u001b[0m             sec\u001b[38;5;241m.\u001b[39mappend(chunk)\n\u001b[0;32m    110\u001b[0m             logger\u001b[38;5;241m.\u001b[39mdebug(\u001b[38;5;124mf\u001b[39m\u001b[38;5;124m'\u001b[39m\u001b[38;5;124mPREPROCESSED CHUNK:\u001b[39m\u001b[38;5;130;01m\\n\u001b[39;00m\u001b[38;5;132;01m{\u001b[39;00mchunk\u001b[38;5;132;01m}\u001b[39;00m\u001b[38;5;130;01m\\n\u001b[39;00m\u001b[38;5;124m'\u001b[39m)\n\u001b[1;32m--> 112\u001b[0m logger\u001b[38;5;241m.\u001b[39minfo(\u001b[38;5;124mf\u001b[39m\u001b[38;5;124m'\u001b[39m\u001b[38;5;124mEND OF FILE - SAVING EMBEDDINGS FOR \u001b[39m\u001b[38;5;132;01m{\u001b[39;00mfile\u001b[38;5;241m.\u001b[39mname\u001b[38;5;132;01m}\u001b[39;00m\u001b[38;5;130;01m\\n\u001b[39;00m\u001b[38;5;124m'\u001b[39m)\n\u001b[0;32m    113\u001b[0m full_paper_emb \u001b[38;5;241m=\u001b[39m np\u001b[38;5;241m.\u001b[39mconcatenate(all_secs)\u001b[38;5;241m.\u001b[39mmean(axis\u001b[38;5;241m=\u001b[39m\u001b[38;5;241m0\u001b[39m)\u001b[38;5;241m.\u001b[39mreshape(\u001b[38;5;241m1\u001b[39m, \u001b[38;5;28mself\u001b[39m\u001b[38;5;241m.\u001b[39memb_size)\n\u001b[0;32m    114\u001b[0m paper_embs \u001b[38;5;241m=\u001b[39m np\u001b[38;5;241m.\u001b[39mconcatenate([paper_embs, full_paper_emb], axis\u001b[38;5;241m=\u001b[39m\u001b[38;5;241m0\u001b[39m)\n",
      "\u001b[1;31mValueError\u001b[0m: cannot reshape array of size 1 into shape (1,768)"
     ]
    }
   ],
   "source": [
    "emb_lib.multi_sec_embed(skip_existing=False)"
   ]
  },
  {
   "cell_type": "code",
   "execution_count": 8,
   "metadata": {},
   "outputs": [],
   "source": [
    "embs = emb_lib.get_full_paper_embs()"
   ]
  },
  {
   "cell_type": "code",
   "execution_count": 22,
   "metadata": {},
   "outputs": [],
   "source": [
    "mapper = umap.UMAP().fit(embs)"
   ]
  },
  {
   "cell_type": "code",
   "execution_count": 34,
   "metadata": {},
   "outputs": [
    {
     "data": {
      "image/png": "[encoded data removed]",
      "text/plain": [
       "<Figure size 800x800 with 1 Axes>"
      ]
     },
     "metadata": {},
     "output_type": "display_data"
    }
   ],
   "source": [
    "\n",
    "p = umap.plot.points(mapper, labels=pd.Series([i for i in range(embs.shape[0])]), show_legend=False)\n",
    "umap.plot.show(p)"
   ]
  },
  {
   "cell_type": "code",
   "execution_count": 35,
   "metadata": {},
   "outputs": [],
   "source": []
  },
  {
   "cell_type": "code",
   "execution_count": null,
   "metadata": {},
   "outputs": [],
   "source": []
  }
 ],
 "metadata": {
  "kernelspec": {
   "display_name": "GroupProject",
   "language": "python",
   "name": "python3"
  },
  "language_info": {
   "codemirror_mode": {
    "name": "ipython",
    "version": 3
   },
   "file_extension": ".py",
   "mimetype": "text/x-python",
   "name": "python",
   "nbconvert_exporter": "python",
   "pygments_lexer": "ipython3",
   "version": "3.10.6"
  }
 },
 "nbformat": 4,
 "nbformat_minor": 2
}
