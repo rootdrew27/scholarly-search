{
 "cells": [
  {
   "cell_type": "markdown",
   "metadata": {},
   "source": [
    "# Finetuning SemSim Model"
   ]
  },
  {
   "cell_type": "markdown",
   "metadata": {},
   "source": [
    "### Imports"
   ]
  },
  {
   "cell_type": "code",
   "execution_count": 1,
   "metadata": {},
   "outputs": [
    {
     "name": "stderr",
     "output_type": "stream",
     "text": [
      "c:\\Users\\rooty\\UWEC\\Fall 24\\CS 426\\GroupProject\\GroupProject\\lib\\site-packages\\tqdm\\auto.py:21: TqdmWarning: IProgress not found. Please update jupyter and ipywidgets. See https://ipywidgets.readthedocs.io/en/stable/user_install.html\n",
      "  from .autonotebook import tqdm as notebook_tqdm\n",
      "c:\\Users\\rooty\\UWEC\\Fall 24\\CS 426\\GroupProject\\GroupProject\\lib\\site-packages\\dask\\dataframe\\__init__.py:49: FutureWarning: \n",
      "Dask dataframe query planning is disabled because dask-expr is not installed.\n",
      "\n",
      "You can install it with `pip install dask[dataframe]` or `conda install dask`.\n",
      "This will raise in a future version.\n",
      "\n",
      "  warnings.warn(msg, FutureWarning)\n",
      "c:\\Users\\rooty\\UWEC\\Fall 24\\CS 426\\GroupProject\\GroupProject\\lib\\site-packages\\numba\\np\\ufunc\\dufunc.py:343: NumbaWarning: \u001b[1mCompilation requested for previously compiled argument types ((uint32,)). This has no effect and perhaps indicates a bug in the calling code (compiling a ufunc more than once for the same signature\u001b[0m\n",
      "  warnings.warn(msg, errors.NumbaWarning)\n",
      "c:\\Users\\rooty\\UWEC\\Fall 24\\CS 426\\GroupProject\\GroupProject\\lib\\site-packages\\numba\\np\\ufunc\\dufunc.py:343: NumbaWarning: \u001b[1mCompilation requested for previously compiled argument types ((uint32,)). This has no effect and perhaps indicates a bug in the calling code (compiling a ufunc more than once for the same signature\u001b[0m\n",
      "  warnings.warn(msg, errors.NumbaWarning)\n",
      "c:\\Users\\rooty\\UWEC\\Fall 24\\CS 426\\GroupProject\\GroupProject\\lib\\site-packages\\numba\\np\\ufunc\\dufunc.py:343: NumbaWarning: \u001b[1mCompilation requested for previously compiled argument types ((uint32,)). This has no effect and perhaps indicates a bug in the calling code (compiling a ufunc more than once for the same signature\u001b[0m\n",
      "  warnings.warn(msg, errors.NumbaWarning)\n"
     ]
    }
   ],
   "source": [
    "import numpy as np\n",
    "import umap    \n",
    "import umap.plot\n",
    "import torch\n",
    "from torch.utils.data import DataLoader\n",
    "\n",
    "from pathlib import Path\n",
    "import numpy as np\n",
    "import pandas as pd\n",
    "import sentence_transformers.losses as losses\n",
    "from sentence_transformers import SentenceTransformer, SimilarityFunction\n",
    "from sentence_transformers.trainer import SentenceTransformerTrainer, SentenceTransformerTrainingArguments\n",
    "from sentence_transformers.training_args import BatchSamplers\n",
    "from datasets import Dataset\n",
    "import sys\n",
    "import os\n",
    "import logging\n",
    "import re\n",
    "\n",
    "SCRIPT_DIR = Path.cwd().parent\n",
    "sys.path.insert(0, str(SCRIPT_DIR))\n",
    "\n",
    "from embeddings.embedding_library import EmbeddingLibrary"
   ]
  },
  {
   "cell_type": "markdown",
   "metadata": {},
   "source": [
    "### Init Model & Embedding Library"
   ]
  },
  {
   "cell_type": "code",
   "execution_count": 2,
   "metadata": {},
   "outputs": [],
   "source": [
    "path_to_papers = Path(r'../data/paper_texts')\n",
    "path_to_embs = Path(r'../data/embeddings')\n",
    "\n",
    "# should all be lower case\n",
    "end_of_paper_words = [\n",
    "    'references',\n",
    "    'acknowledgement', \n",
    "    'appendix',\n",
    "]\n",
    "\n",
    "papers_to_skip = [\n",
    "    '2311.11329v2_content.txt',\n",
    "    '2411.09324v2_content.txt',\n",
    "    '2411.14259v1_content.txt',\n",
    "    '2309.01837v3_content.txt'\n",
    "    #'2403.12778v2_content.txt' \n",
    "]"
   ]
  },
  {
   "cell_type": "code",
   "execution_count": 3,
   "metadata": {},
   "outputs": [],
   "source": [
    "model_name = 'all-distilroberta-v1'\n",
    "device = 'cuda'"
   ]
  },
  {
   "cell_type": "code",
   "execution_count": 4,
   "metadata": {},
   "outputs": [],
   "source": [
    "model = SentenceTransformer(model_name, device=device)\n",
    "\n",
    "# https://huggingface.co/sentence-transformers/all-distilroberta-v1"
   ]
  },
  {
   "cell_type": "code",
   "execution_count": null,
   "metadata": {},
   "outputs": [],
   "source": [
    "path_to_weights = r'C:\\Users\\rooty\\UWEC\\Fall 24\\CS 426\\GroupProject\\GroupProject\\scholarly-search\\weights\\semsim'\n",
    "\n",
    "model = SentenceTransformer(path_to_weights, device=device)"
   ]
  },
  {
   "cell_type": "code",
   "execution_count": 5,
   "metadata": {},
   "outputs": [],
   "source": [
    "emb_lib = EmbeddingLibrary(\n",
    "    path_to_papers=path_to_papers,\n",
    "    path_to_embs=path_to_embs,\n",
    "    model=model,\n",
    "    end_of_paper_words=end_of_paper_words,\n",
    "    papers_to_skip=papers_to_skip,\n",
    "    norm_embs=True,\n",
    "    name=model_name,\n",
    "    log_lvl=logging.INFO,\n",
    "    path_to_log=Path(\"../log\")\n",
    ")"
   ]
  },
  {
   "cell_type": "code",
   "execution_count": 6,
   "metadata": {},
   "outputs": [
    {
     "name": "stderr",
     "output_type": "stream",
     "text": [
      "Batches:   0%|          | 0/1 [00:00<?, ?it/s]"
     ]
    },
    {
     "name": "stderr",
     "output_type": "stream",
     "text": [
      "Batches: 100%|██████████| 1/1 [00:00<00:00, 60.32it/s]\n",
      "Batches: 100%|██████████| 2/2 [00:02<00:00,  1.31s/it]\n",
      "Batches: 100%|██████████| 1/1 [00:00<00:00, 65.62it/s]\n",
      "Batches: 100%|██████████| 6/6 [00:02<00:00,  2.11it/s]\n",
      "Batches: 100%|██████████| 1/1 [00:00<00:00, 46.31it/s]\n",
      "Batches: 100%|██████████| 4/4 [00:01<00:00,  2.68it/s]\n",
      "Batches: 100%|██████████| 1/1 [00:00<00:00, 70.86it/s]\n",
      "Batches: 100%|██████████| 7/7 [00:01<00:00,  3.97it/s]\n",
      "Batches: 100%|██████████| 1/1 [00:00<00:00, 73.26it/s]\n",
      "Batches: 100%|██████████| 3/3 [00:01<00:00,  1.94it/s]\n",
      "Batches: 100%|██████████| 1/1 [00:00<00:00, 55.14it/s]\n",
      "Batches: 100%|██████████| 8/8 [00:01<00:00,  4.88it/s]\n",
      "Batches: 100%|██████████| 1/1 [00:00<00:00, 63.92it/s]\n",
      "Batches: 100%|██████████| 6/6 [00:01<00:00,  3.84it/s]\n",
      "Batches: 100%|██████████| 1/1 [00:00<00:00, 57.09it/s]\n",
      "Batches: 100%|██████████| 8/8 [00:04<00:00,  1.79it/s]\n",
      "Batches: 100%|██████████| 1/1 [00:00<00:00, 46.25it/s]\n",
      "Batches: 100%|██████████| 2/2 [00:02<00:00,  1.36s/it]\n",
      "Batches: 100%|██████████| 1/1 [00:00<00:00, 39.48it/s]\n",
      "Batches: 100%|██████████| 2/2 [00:01<00:00,  1.29it/s]\n",
      "Batches: 100%|██████████| 1/1 [00:00<00:00, 55.48it/s]\n",
      "Batches: 100%|██████████| 9/9 [00:01<00:00,  6.41it/s]\n",
      "Batches: 100%|██████████| 1/1 [00:00<00:00, 55.79it/s]\n",
      "Batches: 100%|██████████| 4/4 [00:03<00:00,  1.13it/s]\n",
      "Batches: 100%|██████████| 1/1 [00:00<00:00, 63.90it/s]\n",
      "Batches: 100%|██████████| 2/2 [00:02<00:00,  1.39s/it]\n",
      "Batches: 100%|██████████| 1/1 [00:00<00:00, 48.47it/s]\n",
      "Batches: 100%|██████████| 2/2 [00:00<00:00,  2.23it/s]\n",
      "Batches: 100%|██████████| 1/1 [00:00<00:00, 65.13it/s]\n",
      "Batches: 100%|██████████| 2/2 [00:02<00:00,  1.16s/it]\n",
      "Batches: 100%|██████████| 1/1 [00:00<00:00, 32.41it/s]\n",
      "Batches: 100%|██████████| 3/3 [00:03<00:00,  1.06s/it]\n",
      "Batches: 100%|██████████| 1/1 [00:00<00:00, 56.95it/s]\n",
      "Batches: 100%|██████████| 2/2 [00:01<00:00,  1.60it/s]\n",
      "Batches: 100%|██████████| 1/1 [00:00<00:00, 63.05it/s]\n",
      "Batches: 100%|██████████| 2/2 [00:01<00:00,  1.14it/s]\n",
      "Batches: 100%|██████████| 1/1 [00:00<00:00, 73.47it/s]\n",
      "Batches: 100%|██████████| 3/3 [00:01<00:00,  1.77it/s]\n",
      "Batches: 100%|██████████| 1/1 [00:00<00:00, 54.22it/s]\n",
      "Batches: 100%|██████████| 1/1 [00:01<00:00,  1.59s/it]\n",
      "Batches: 100%|██████████| 1/1 [00:00<00:00, 54.26it/s]\n",
      "Batches: 100%|██████████| 3/3 [00:01<00:00,  1.66it/s]\n",
      "Batches: 100%|██████████| 1/1 [00:00<00:00, 66.45it/s]\n",
      "Batches: 100%|██████████| 2/2 [00:02<00:00,  1.04s/it]\n",
      "Batches: 100%|██████████| 1/1 [00:00<00:00, 54.82it/s]\n",
      "Batches: 100%|██████████| 2/2 [00:01<00:00,  1.35it/s]\n",
      "Batches: 100%|██████████| 1/1 [00:00<00:00, 55.45it/s]\n",
      "Batches: 100%|██████████| 2/2 [00:01<00:00,  1.66it/s]\n",
      "Batches: 100%|██████████| 1/1 [00:00<00:00, 46.16it/s]\n",
      "Batches: 100%|██████████| 2/2 [00:03<00:00,  1.51s/it]\n",
      "Batches: 100%|██████████| 1/1 [00:00<00:00, 62.24it/s]\n",
      "Batches: 100%|██████████| 2/2 [00:02<00:00,  1.45s/it]\n",
      "Batches: 100%|██████████| 1/1 [00:00<00:00, 55.43it/s]\n",
      "Batches: 100%|██████████| 7/7 [00:02<00:00,  3.24it/s]\n",
      "Batches: 100%|██████████| 1/1 [00:00<00:00, 57.80it/s]\n",
      "Batches: 100%|██████████| 8/8 [00:02<00:00,  2.86it/s]\n",
      "Batches: 100%|██████████| 1/1 [00:00<00:00, 52.21it/s]\n",
      "Batches: 100%|██████████| 5/5 [00:00<00:00,  5.74it/s]\n",
      "Batches: 100%|██████████| 1/1 [00:00<00:00, 55.73it/s]\n",
      "Batches: 100%|██████████| 4/4 [00:03<00:00,  1.28it/s]\n",
      "Batches: 100%|██████████| 1/1 [00:00<00:00, 56.25it/s]\n",
      "Batches: 100%|██████████| 2/2 [00:01<00:00,  1.49it/s]\n",
      "Batches: 100%|██████████| 1/1 [00:00<00:00, 53.23it/s]\n",
      "Batches: 100%|██████████| 3/3 [00:01<00:00,  1.51it/s]\n",
      "Batches: 100%|██████████| 1/1 [00:00<00:00, 59.29it/s]\n",
      "Batches: 100%|██████████| 4/4 [00:01<00:00,  2.97it/s]\n",
      "Batches: 100%|██████████| 1/1 [00:00<00:00, 56.78it/s]\n",
      "Batches: 100%|██████████| 7/7 [00:01<00:00,  5.53it/s]\n",
      "Batches: 100%|██████████| 1/1 [00:00<00:00, 59.63it/s]\n",
      "Batches: 100%|██████████| 2/2 [00:01<00:00,  1.33it/s]\n",
      "Batches: 100%|██████████| 1/1 [00:00<00:00, 55.31it/s]\n",
      "Batches: 100%|██████████| 1/1 [00:01<00:00,  1.01s/it]\n",
      "Batches: 100%|██████████| 1/1 [00:00<00:00, 53.30it/s]\n",
      "Batches: 100%|██████████| 3/3 [00:02<00:00,  1.18it/s]\n",
      "Batches: 100%|██████████| 1/1 [00:00<00:00, 19.60it/s]\n",
      "Batches: 100%|██████████| 12/12 [00:01<00:00,  6.99it/s]\n",
      "Batches: 100%|██████████| 1/1 [00:00<00:00, 68.71it/s]\n",
      "Batches: 100%|██████████| 1/1 [00:01<00:00,  1.04s/it]\n",
      "Batches: 100%|██████████| 1/1 [00:00<00:00, 63.15it/s]\n",
      "Batches: 100%|██████████| 3/3 [00:01<00:00,  2.71it/s]\n",
      "Batches: 100%|██████████| 1/1 [00:00<00:00, 65.67it/s]\n",
      "Batches: 100%|██████████| 3/3 [00:01<00:00,  2.29it/s]\n",
      "Batches: 100%|██████████| 1/1 [00:00<00:00, 77.05it/s]\n",
      "Batches: 100%|██████████| 5/5 [00:03<00:00,  1.63it/s]\n",
      "Batches: 100%|██████████| 1/1 [00:00<00:00, 61.00it/s]\n",
      "Batches: 100%|██████████| 1/1 [00:01<00:00,  1.14s/it]\n",
      "Batches: 100%|██████████| 1/1 [00:00<00:00, 56.60it/s]\n",
      "Batches: 100%|██████████| 2/2 [00:01<00:00,  1.42it/s]\n",
      "Batches: 100%|██████████| 1/1 [00:00<00:00, 54.17it/s]\n",
      "Batches: 100%|██████████| 2/2 [00:01<00:00,  1.53it/s]\n"
     ]
    }
   ],
   "source": [
    "emb_lib.embed_papers(skip_existing=False)"
   ]
  },
  {
   "cell_type": "markdown",
   "metadata": {},
   "source": [
    "### Test Embedding Lib"
   ]
  },
  {
   "cell_type": "code",
   "execution_count": 7,
   "metadata": {},
   "outputs": [
    {
     "data": {
      "text/plain": [
       "(1, 768)"
      ]
     },
     "execution_count": 7,
     "metadata": {},
     "output_type": "execute_result"
    }
   ],
   "source": [
    "np.load(path_to_embs/'2411.14427v1.npy').shape"
   ]
  },
  {
   "cell_type": "code",
   "execution_count": 8,
   "metadata": {},
   "outputs": [
    {
     "data": {
      "image/png": "[encoded data removed]",
      "text/plain": [
       "<Figure size 800x800 with 1 Axes>"
      ]
     },
     "metadata": {},
     "output_type": "display_data"
    }
   ],
   "source": [
    "mapper = umap.UMAP().fit(emb_lib.paper_embs)\n",
    "p = umap.plot.points(mapper, labels=pd.Series([i for i in range(emb_lib.paper_embs.shape[0])]), show_legend=False)\n",
    "umap.plot.show(p)"
   ]
  },
  {
   "cell_type": "code",
   "execution_count": 9,
   "metadata": {},
   "outputs": [
    {
     "data": {
      "text/plain": [
       "tensor([[1.0000, 0.3841, 0.3510,  ..., 0.5426, 0.3374, 0.3162],\n",
       "        [0.3841, 1.0000, 0.3399,  ..., 0.3466, 0.4973, 0.3639],\n",
       "        [0.3510, 0.3399, 1.0000,  ..., 0.6894, 0.2107, 0.3106],\n",
       "        ...,\n",
       "        [0.5426, 0.3466, 0.6894,  ..., 1.0000, 0.3382, 0.3323],\n",
       "        [0.3374, 0.4973, 0.2107,  ..., 0.3382, 1.0000, 0.2821],\n",
       "        [0.3162, 0.3639, 0.3106,  ..., 0.3323, 0.2821, 1.0000]])"
      ]
     },
     "execution_count": 9,
     "metadata": {},
     "output_type": "execute_result"
    }
   ],
   "source": [
    "model.similarity(emb_lib.paper_embs, emb_lib.paper_embs)"
   ]
  },
  {
   "cell_type": "code",
   "execution_count": 10,
   "metadata": {},
   "outputs": [
    {
     "name": "stderr",
     "output_type": "stream",
     "text": [
      "Batches: 100%|██████████| 1/1 [00:00<00:00, 16.05it/s]\n"
     ]
    },
    {
     "data": {
      "text/plain": [
       "['2311.00207v3',\n",
       " '2407.05941v4',\n",
       " '2411.13037v1',\n",
       " '2406.08298v5',\n",
       " '2411.09101v1']"
      ]
     },
     "execution_count": 10,
     "metadata": {},
     "output_type": "execute_result"
    }
   ],
   "source": [
    "# Paper: 2311.00207v3\n",
    "\n",
    "prompt = \"\"\n",
    "response = '''SECTION: IIntroduction\n",
    "\n",
    "Next-generation (NextG) networks promise to support ultra-reliable and low-latency communication for rapidly evolving wireless devices[29]. Emerging networks are thus challenged to establish new features (e.g., adaptive coding and enhanced modulation) to overcome rapidly changing channel conditions and to achieve more efficient use of spectrum[102,63].\n",
    "Machine Learning (ML) overcomes this barrier by revolutionizing the entire wireless network protocol stack[67].'''\n",
    "\n",
    "emb_lib.search_papers(prompt, response)"
   ]
  },
  {
   "cell_type": "code",
   "execution_count": 11,
   "metadata": {},
   "outputs": [
    {
     "name": "stderr",
     "output_type": "stream",
     "text": [
      "Batches: 100%|██████████| 1/1 [00:00<00:00,  5.22it/s]\n"
     ]
    },
    {
     "data": {
      "text/plain": [
       "['2411.06091v1',\n",
       " '2411.14354v1',\n",
       " '2411.09420v1',\n",
       " '2411.09101v1',\n",
       " '2308.07279v2']"
      ]
     },
     "execution_count": 11,
     "metadata": {},
     "output_type": "execute_result"
    }
   ],
   "source": [
    "# from 2411.06091\n",
    "\n",
    "prompt = \"\"\n",
    "response = '''Remote sensing technology, employing aerial or satellite platforms, facilitates the acquisition of earth observation data from afar, marking its utility across diverse sectors such as agriculture monitoring, environmental surveillance evaluation, urban planning, and disaster management. At the heart of these applications lies the interpretation of remote sensing imagery, a task that has been considerably challenging[1]. The advent of deep learning technology[2]has significantly enhanced the precision and automation of remote sensing image analysis, encompassing object detection, land cover classification, and change detection. Nonetheless, the intrinsic complexity of remote sensing scenarios—attributable to variations in sensor technology, atmospheric conditions, and image resolution—results in the performance disparity of analytical models across different contexts. The prohibitive costs associated with manual annotation further exacerbate this issue, rendering the re-labeling of samples for specific scenarios impractical. Consequently, there is a growing demand for models endowed with superior generalization capabilities, capable of adeptly navigating the multifaceted landscape of remote sensing applications.\n",
    "\n",
    "Seeking a method that discerns both the semantic information of different scene images and the semantic details within each area of the images is essential for effectively processing scenographic remote sensing imagery. It has been observed that scenographic images in remote sensing typically exhibit specific distribution patterns, where natural elements (such as mountains, bodies of water, forests, lakes, and grasslands) and man-made elements (such as buildings, farmlands, plowed lands, and gardens) often display pronounced clustering. This tendency for feature aggregation leads to the formation of discernible geographic pattern clusters among individual image patches and their neighbors, thereby establishing intricate spatial relationships across the varying patches and their adjacent areas.'''\n",
    "\n",
    "emb_lib.search_papers(prompt, response)"
   ]
  },
  {
   "cell_type": "markdown",
   "metadata": {},
   "source": [
    "**These results are sub-par**\n",
    "\n",
    "### Finetuning"
   ]
  },
  {
   "cell_type": "code",
   "execution_count": 12,
   "metadata": {},
   "outputs": [],
   "source": [
    "# create paper chunks and Dataset\n",
    "\n",
    "paper_chunks = []\n",
    "\n",
    "for paper_path in emb_lib.paper_paths:\n",
    "    with open(paper_path, 'r', encoding='utf-8') as p:\n",
    "        paper = p.read()\n",
    "        title, chunks = emb_lib.preprocess_paper(paper)\n",
    "        paper_chunks.extend(chunks)\n",
    "        paper_chunks.append(title)\n",
    "\n",
    "dataset = Dataset.from_dict({\n",
    "    \"anchor\": paper_chunks,\n",
    "    \"positive\": paper_chunks,\n",
    "})"
   ]
  },
  {
   "cell_type": "code",
   "execution_count": null,
   "metadata": {},
   "outputs": [],
   "source": [
    "train_"
   ]
  },
  {
   "cell_type": "code",
   "execution_count": 13,
   "metadata": {},
   "outputs": [],
   "source": [
    "# train a tokenizer\n",
    "\n",
    "batch_size = 1000\n",
    "all_texts = np.random.shuffle([dataset[i : i + batch_size][\"anchor\"] for i in range(0, len(dataset), batch_size)])\n",
    "\n",
    "def batch_iterator():\n",
    "    for i in range(0, len(dataset), batch_size):\n",
    "        yield dataset[i : i + batch_size][\"anchor\"]\n",
    "\n",
    "model.tokenizer = model.tokenizer.train_new_from_iterator(batch_iterator(), vocab_size=55000)"
   ]
  },
  {
   "cell_type": "code",
   "execution_count": 14,
   "metadata": {},
   "outputs": [],
   "source": [
    "# set dropout in model\n",
    "\n",
    "from torch.nn.modules.dropout import Dropout\n",
    "\n",
    "def set_dropout(model, p):\n",
    "\n",
    "    def set_d(module):\n",
    "        for c in module.children():\n",
    "            if len(list(module.children())) == 0: return\n",
    "            if isinstance(c, Dropout):\n",
    "                c.p = p\n",
    "            set_d(c)\n",
    "\n",
    "    for m in model.modules():\n",
    "        set_d(m)\n",
    "\n",
    "set_dropout(model, 0.5)   "
   ]
  },
  {
   "cell_type": "code",
   "execution_count": 15,
   "metadata": {},
   "outputs": [],
   "source": [
    "# Use the MultipleNegativesRankingLoss\n",
    "train_loss = losses.MultipleNegativesRankingLoss(model)\n",
    "\n",
    "args = SentenceTransformerTrainingArguments(\n",
    "    output_dir=f\"training/{model_name}\",\n",
    "    num_train_epochs=5,\n",
    "    per_device_train_batch_size=32,\n",
    "    #per_device_eval_batch_size=16,\n",
    "    warmup_ratio=0.1,\n",
    "    fp16=True,  # Set to False if your GPU can't handle FP16\n",
    "    bf16=False,  # Set to True if your GPU supports BF16\n",
    "    batch_sampler=BatchSamplers.NO_DUPLICATES,  # Losses using \"in-batch negatives\" benefit from no duplicates\n",
    "    # Optional tracking/debugging parameters:\n",
    "    # eval_strategy=\"steps\",\n",
    "    # eval_steps=100,\n",
    "    save_strategy=\"steps\",\n",
    "    save_steps=100,\n",
    "    save_total_limit=2,\n",
    "    logging_steps=100,\n",
    "    run_name=f\"{model_name}\",  # Used in W&B if `wandb` is installed\n",
    ")\n",
    "\n"
   ]
  },
  {
   "cell_type": "code",
   "execution_count": 30,
   "metadata": {},
   "outputs": [],
   "source": [
    "trainer = SentenceTransformerTrainer(\n",
    "    model = model,\n",
    "    args = args,\n",
    "    train_dataset = dataset,\n",
    "    loss = train_loss,\n",
    "    tokenizer = model.tokenizer,  \n",
    ")\n",
    "trainer.train()"
   ]
  },
  {
   "cell_type": "code",
   "execution_count": 31,
   "metadata": {},
   "outputs": [
    {
     "name": "stderr",
     "output_type": "stream",
     "text": [
      "                                                  \n",
      " 34%|███▎      | 518/1535 [05:09<05:38,  3.01it/s]"
     ]
    },
    {
     "name": "stdout",
     "output_type": "stream",
     "text": [
      "{'loss': 0.454, 'grad_norm': 5.565038204193115, 'learning_rate': 3.14935064935065e-05, 'epoch': 0.33}\n"
     ]
    },
    {
     "name": "stderr",
     "output_type": "stream",
     "text": [
      "\n",
      "\u001b[A\n",
      "                                                  \n",
      " 34%|███▎      | 518/1535 [06:17<05:38,  3.01it/s]"
     ]
    },
    {
     "name": "stdout",
     "output_type": "stream",
     "text": [
      "{'loss': 0.0543, 'grad_norm': 3.9539802074432373, 'learning_rate': 4.844315713251267e-05, 'epoch': 0.65}\n"
     ]
    },
    {
     "name": "stderr",
     "output_type": "stream",
     "text": [
      "                                                  \n",
      " 34%|███▎      | 518/1535 [06:59<05:38,  3.01it/s]"
     ]
    },
    {
     "name": "stdout",
     "output_type": "stream",
     "text": [
      "{'loss': 0.0377, 'grad_norm': 0.3020555377006531, 'learning_rate': 4.4822592324402606e-05, 'epoch': 0.98}\n"
     ]
    },
    {
     "name": "stderr",
     "output_type": "stream",
     "text": [
      "                                                  \n",
      " 34%|███▎      | 518/1535 [07:50<05:38,  3.01it/s]"
     ]
    },
    {
     "name": "stdout",
     "output_type": "stream",
     "text": [
      "{'loss': 0.0253, 'grad_norm': 0.2598021626472473, 'learning_rate': 4.1202027516292545e-05, 'epoch': 1.3}\n"
     ]
    },
    {
     "name": "stderr",
     "output_type": "stream",
     "text": [
      "                                                  \n",
      " 34%|███▎      | 518/1535 [08:58<05:38,  3.01it/s]"
     ]
    },
    {
     "name": "stdout",
     "output_type": "stream",
     "text": [
      "{'loss': 0.0087, 'grad_norm': 0.3064405024051666, 'learning_rate': 3.758146270818248e-05, 'epoch': 1.63}\n"
     ]
    },
    {
     "name": "stderr",
     "output_type": "stream",
     "text": [
      "                                                  \n",
      " 34%|███▎      | 518/1535 [09:40<05:38,  3.01it/s]"
     ]
    },
    {
     "name": "stdout",
     "output_type": "stream",
     "text": [
      "{'loss': 0.0179, 'grad_norm': 0.1715710610151291, 'learning_rate': 3.3960897900072416e-05, 'epoch': 1.95}\n"
     ]
    },
    {
     "name": "stderr",
     "output_type": "stream",
     "text": [
      "                                                  \n",
      " 34%|███▎      | 518/1535 [10:30<05:38,  3.01it/s]"
     ]
    },
    {
     "name": "stdout",
     "output_type": "stream",
     "text": [
      "{'loss': 0.0134, 'grad_norm': 0.22755272686481476, 'learning_rate': 3.034033309196235e-05, 'epoch': 2.28}\n"
     ]
    },
    {
     "name": "stderr",
     "output_type": "stream",
     "text": [
      "                                                  \n",
      " 34%|███▎      | 518/1535 [11:42<05:38,  3.01it/s]"
     ]
    },
    {
     "name": "stdout",
     "output_type": "stream",
     "text": [
      "{'loss': 0.0056, 'grad_norm': 0.04436185956001282, 'learning_rate': 2.671976828385228e-05, 'epoch': 2.61}\n"
     ]
    },
    {
     "name": "stderr",
     "output_type": "stream",
     "text": [
      "                                                  \n",
      " 34%|███▎      | 518/1535 [12:24<05:38,  3.01it/s]"
     ]
    },
    {
     "name": "stdout",
     "output_type": "stream",
     "text": [
      "{'loss': 0.0088, 'grad_norm': 4.521520614624023, 'learning_rate': 2.3099203475742217e-05, 'epoch': 2.93}\n"
     ]
    },
    {
     "name": "stderr",
     "output_type": "stream",
     "text": [
      "                                                  \n",
      " 34%|███▎      | 518/1535 [13:10<05:38,  3.01it/s] "
     ]
    },
    {
     "name": "stdout",
     "output_type": "stream",
     "text": [
      "{'loss': 0.012, 'grad_norm': 0.3633098006248474, 'learning_rate': 1.9478638667632152e-05, 'epoch': 3.26}\n"
     ]
    },
    {
     "name": "stderr",
     "output_type": "stream",
     "text": [
      "                                                  \n",
      " 34%|███▎      | 518/1535 [14:24<05:38,  3.01it/s] "
     ]
    },
    {
     "name": "stdout",
     "output_type": "stream",
     "text": [
      "{'loss': 0.0034, 'grad_norm': 0.2215462327003479, 'learning_rate': 1.5858073859522085e-05, 'epoch': 3.58}\n"
     ]
    },
    {
     "name": "stderr",
     "output_type": "stream",
     "text": [
      "                                                  \n",
      " 34%|███▎      | 518/1535 [15:06<05:38,  3.01it/s] "
     ]
    },
    {
     "name": "stdout",
     "output_type": "stream",
     "text": [
      "{'loss': 0.0068, 'grad_norm': 0.11929313838481903, 'learning_rate': 1.223750905141202e-05, 'epoch': 3.91}\n"
     ]
    },
    {
     "name": "stderr",
     "output_type": "stream",
     "text": [
      "                                                  \n",
      " 34%|███▎      | 518/1535 [15:52<05:38,  3.01it/s] "
     ]
    },
    {
     "name": "stdout",
     "output_type": "stream",
     "text": [
      "{'loss': 0.0089, 'grad_norm': 0.25609907507896423, 'learning_rate': 8.616944243301955e-06, 'epoch': 4.23}\n"
     ]
    },
    {
     "name": "stderr",
     "output_type": "stream",
     "text": [
      "                                                  \n",
      " 34%|███▎      | 518/1535 [17:07<05:38,  3.01it/s] "
     ]
    },
    {
     "name": "stdout",
     "output_type": "stream",
     "text": [
      "{'loss': 0.0036, 'grad_norm': 0.027053426951169968, 'learning_rate': 4.99637943519189e-06, 'epoch': 4.56}\n"
     ]
    },
    {
     "name": "stderr",
     "output_type": "stream",
     "text": [
      "                                                  \n",
      " 34%|███▎      | 518/1535 [17:48<05:38,  3.01it/s] "
     ]
    },
    {
     "name": "stdout",
     "output_type": "stream",
     "text": [
      "{'loss': 0.0063, 'grad_norm': 1.005142092704773, 'learning_rate': 1.3758146270818247e-06, 'epoch': 4.89}\n"
     ]
    },
    {
     "name": "stderr",
     "output_type": "stream",
     "text": [
      "                                                  \n",
      "100%|██████████| 1535/1535 [13:45<00:00,  1.86it/s]"
     ]
    },
    {
     "name": "stdout",
     "output_type": "stream",
     "text": [
      "{'train_runtime': 825.2674, 'train_samples_per_second': 29.706, 'train_steps_per_second': 1.86, 'train_loss': 0.04364390678048522, 'epoch': 5.0}\n"
     ]
    },
    {
     "name": "stderr",
     "output_type": "stream",
     "text": [
      "\n"
     ]
    },
    {
     "data": {
      "text/plain": [
       "TrainOutput(global_step=1535, training_loss=0.04364390678048522, metrics={'train_runtime': 825.2674, 'train_samples_per_second': 29.706, 'train_steps_per_second': 1.86, 'total_flos': 0.0, 'train_loss': 0.04364390678048522, 'epoch': 5.0})"
      ]
     },
     "execution_count": 31,
     "metadata": {},
     "output_type": "execute_result"
    }
   ],
   "source": [
    "path_to_weights = r'C:\\Users\\rooty\\UWEC\\Fall 24\\CS 426\\GroupProject\\GroupProject\\scholarly-search\\weights\\semsim'\n",
    "model.save(path_to_weights)"
   ]
  }
 ],
 "metadata": {
  "kernelspec": {
   "display_name": "GroupProject",
   "language": "python",
   "name": "python3"
  },
  "language_info": {
   "codemirror_mode": {
    "name": "ipython",
    "version": 3
   },
   "file_extension": ".py",
   "mimetype": "text/x-python",
   "name": "python",
   "nbconvert_exporter": "python",
   "pygments_lexer": "ipython3",
   "version": "3.10.6"
  }
 },
 "nbformat": 4,
 "nbformat_minor": 2
}
